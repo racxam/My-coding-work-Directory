{
 "cells": [
  {
   "cell_type": "markdown",
   "id": "673e522c",
   "metadata": {},
   "source": [
    "\n",
    "# Welcome to numpty tutorial\n"
   ]
  },
  {
   "cell_type": "code",
   "execution_count": 6,
   "id": "e2f61641",
   "metadata": {},
   "outputs": [],
   "source": [
    "import num py as np\n"
   ]
  },
  {
   "cell_type": "code",
   "execution_count": null,
   "id": "9557b65a",
   "metadata": {},
   "outputs": [],
   "source": []
  }
 ],
 "metadata": {
  "kernelspec": {
   "display_name": "Python 3",
   "language": "python",
   "name": "python3"
  },
  "language_info": {
   "codemirror_mode": {
    "name": "ipython",
    "version": 3
   },
   "file_extension": ".py",
   "mimetype": "text/x-python",
   "name": "python",
   "nbconvert_exporter": "python",
   "pygments_lexer": "ipython3",
   "version": "3.9.7"
  },
  "vscode": {
   "interpreter": {
    "hash": "aee8b7b246df8f9039afb4144a1f6fd8d2ca17a180786b69acc140d282b71a49"
   }
  }
 },
 "nbformat": 4,
 "nbformat_minor": 5
}
